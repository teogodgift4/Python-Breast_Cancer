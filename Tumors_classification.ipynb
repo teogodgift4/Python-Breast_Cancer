{
 "cells": [
  {
   "cell_type": "code",
   "execution_count": 1,
   "metadata": {},
   "outputs": [
    {
     "name": "stdout",
     "output_type": "stream",
     "text": [
      "K-N neighbors program for detection of benign tumor or malignant tumor\n",
      "Based on wisconsin breast cancer data\n",
      "It is used only one nearest neighbor\n",
      "Accurancy of model:\n",
      "94.28571428571428 %\n"
     ]
    }
   ],
   "source": [
    "import numpy as np;\n",
    "from sklearn import preprocessing, neighbors;\n",
    "from sklearn.model_selection import train_test_split\n",
    "import pandas as pd;\n",
    "\n",
    "print(\"K-N neighbors program for detection of benign tumor or malignant tumor\");\n",
    "print(\"Based on wisconsin breast cancer data\");\n",
    "print(\"It is used only one nearest neighbor\");\n",
    "\n",
    "df = pd.read_csv('Downloads/breast-cancer-wisconsin.data');\n",
    "df.replace('?', -99999, inplace=True);\n",
    "df.drop(['id'],1, inplace=True);\n",
    "\n",
    "x = np.array(df.drop(['class'],1));\n",
    "y = np.array(df['class']);\n",
    "\n",
    "x_train, x_test, y_train, y_test = train_test_split(x,y,test_size=0.2);\n",
    "\n",
    "clf = neighbors.KNeighborsClassifier();\n",
    "clf.fit(x_train, y_train);\n",
    "\n",
    "accurancy = clf.score(x_test, y_test);\n",
    "print(\"Accurancy of model:\");\n",
    "print(accurancy*100,'%');"
   ]
  },
  {
   "cell_type": "code",
   "execution_count": null,
   "metadata": {},
   "outputs": [],
   "source": [
    "\n"
   ]
  },
  {
   "cell_type": "code",
   "execution_count": null,
   "metadata": {},
   "outputs": [],
   "source": []
  },
  {
   "cell_type": "code",
   "execution_count": null,
   "metadata": {},
   "outputs": [],
   "source": []
  }
 ],
 "metadata": {
  "kernelspec": {
   "display_name": "Python 3",
   "language": "python",
   "name": "python3"
  },
  "language_info": {
   "codemirror_mode": {
    "name": "ipython",
    "version": 3
   },
   "file_extension": ".py",
   "mimetype": "text/x-python",
   "name": "python",
   "nbconvert_exporter": "python",
   "pygments_lexer": "ipython3",
   "version": "3.8.3"
  }
 },
 "nbformat": 4,
 "nbformat_minor": 4
}
